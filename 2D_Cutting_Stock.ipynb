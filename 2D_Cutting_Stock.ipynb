{
  "nbformat": 4,
  "nbformat_minor": 0,
  "metadata": {
    "colab": {
      "provenance": []
    },
    "kernelspec": {
      "name": "python3",
      "display_name": "Python 3"
    },
    "language_info": {
      "name": "python"
    }
  },
  "cells": [
    {
      "cell_type": "code",
      "source": [
        "!pip install ortools\n"
      ],
      "metadata": {
        "colab": {
          "base_uri": "https://localhost:8080/"
        },
        "id": "VyaoTGnSPuz7",
        "outputId": "83dde281-8a18-4ef8-cab3-5e5bbd918ca4"
      },
      "execution_count": null,
      "outputs": [
        {
          "output_type": "stream",
          "name": "stdout",
          "text": [
            "Collecting ortools\n",
            "  Downloading ortools-9.7.2996-cp310-cp310-manylinux_2_17_x86_64.manylinux2014_x86_64.whl (21.1 MB)\n",
            "\u001b[2K     \u001b[90m━━━━━━━━━━━━━━━━━━━━━━━━━━━━━━━━━━━━━━━━\u001b[0m \u001b[32m21.1/21.1 MB\u001b[0m \u001b[31m38.2 MB/s\u001b[0m eta \u001b[36m0:00:00\u001b[0m\n",
            "\u001b[?25hRequirement already satisfied: absl-py>=0.13 in /usr/local/lib/python3.10/dist-packages (from ortools) (1.4.0)\n",
            "Requirement already satisfied: numpy>=1.13.3 in /usr/local/lib/python3.10/dist-packages (from ortools) (1.23.5)\n",
            "Collecting protobuf>=4.23.3 (from ortools)\n",
            "  Downloading protobuf-4.24.0-cp37-abi3-manylinux2014_x86_64.whl (311 kB)\n",
            "\u001b[2K     \u001b[90m━━━━━━━━━━━━━━━━━━━━━━━━━━━━━━━━━━━━━━\u001b[0m \u001b[32m311.6/311.6 kB\u001b[0m \u001b[31m26.3 MB/s\u001b[0m eta \u001b[36m0:00:00\u001b[0m\n",
            "\u001b[?25hInstalling collected packages: protobuf, ortools\n",
            "  Attempting uninstall: protobuf\n",
            "    Found existing installation: protobuf 3.20.3\n",
            "    Uninstalling protobuf-3.20.3:\n",
            "      Successfully uninstalled protobuf-3.20.3\n",
            "\u001b[31mERROR: pip's dependency resolver does not currently take into account all the packages that are installed. This behaviour is the source of the following dependency conflicts.\n",
            "tensorflow-metadata 1.14.0 requires protobuf<4.21,>=3.20.3, but you have protobuf 4.24.0 which is incompatible.\u001b[0m\u001b[31m\n",
            "\u001b[0mSuccessfully installed ortools-9.7.2996 protobuf-4.24.0\n"
          ]
        }
      ]
    },
    {
      "cell_type": "code",
      "source": [
        "from ortools.linear_solver import pywraplp\n",
        "\n",
        "def solve_2d_cutting_stock(sheets, demands, widths, heights):\n",
        "    solver = pywraplp.Solver.CreateSolver('SCIP')\n",
        "    num_sheets = len(sheets)\n",
        "    num_demands = len(demands)\n",
        "\n",
        "    # Variables: how many times each sheet is used\n",
        "    x = []\n",
        "    for i in range(num_sheets):\n",
        "        x.append(solver.IntVar(0, solver.infinity(), f'x[{i}]'))\n",
        "\n",
        "    # Constraints: meet the demands for each item\n",
        "    for j in range(num_demands):\n",
        "        constraint_expr = []\n",
        "        for i in range(num_sheets):\n",
        "            constraint_expr.append((x[i] * widths[j]) * (sheets[i][1] // heights[j]))\n",
        "        solver.Add(sum(constraint_expr) >= demands[j])\n",
        "\n",
        "    # Objective: minimize total used sheets\n",
        "    objective = solver.Objective()\n",
        "    for i in range(num_sheets):\n",
        "        objective.SetCoefficient(x[i], 1)\n",
        "    objective.SetMinimization()\n",
        "\n",
        "    status = solver.Solve()\n",
        "\n",
        "    if status == pywraplp.Solver.OPTIMAL:\n",
        "        print('Solution:')\n",
        "        print(f'Objective value = {solver.Objective().Value()}')\n",
        "        for i in range(num_sheets):\n",
        "            if x[i].solution_value() > 0:\n",
        "                print(f'Sheet {i}: {x[i].solution_value()} times')\n",
        "    else:\n",
        "        print('The problem does not have an optimal solution.')\n",
        "\n",
        "# Example data\n",
        "sheets = [(96, 48), (96, 48)]  # Sheet dimensions (width, height)\n",
        "demands = [10, 8]  # Demand for each item\n",
        "widths = [30, 60]  # Width of each item\n",
        "heights = [20, 30]  # Height of each item\n",
        "\n",
        "solve_2d_cutting_stock(sheets, demands, widths, heights)\n"
      ],
      "metadata": {
        "colab": {
          "base_uri": "https://localhost:8080/"
        },
        "id": "nVeYa0nIP6F9",
        "outputId": "1a8f00f8-a771-44c8-83c6-9618aee9b956"
      },
      "execution_count": null,
      "outputs": [
        {
          "output_type": "stream",
          "name": "stdout",
          "text": [
            "Solution:\n",
            "Objective value = 1.0\n",
            "Sheet 0: 1.0 times\n"
          ]
        }
      ]
    }
  ]
}